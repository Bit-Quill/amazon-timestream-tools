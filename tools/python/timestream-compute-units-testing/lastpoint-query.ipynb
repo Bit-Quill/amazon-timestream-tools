{
 "cells": [
  {
   "cell_type": "code",
   "execution_count": null,
   "id": "d55b79d3",
   "metadata": {},
   "outputs": [],
   "source": [
    "import boto3\n",
    "import concurrent.futures\n",
    "import time\n",
    "from datetime import datetime\n",
    "import numpy as np\n",
    "import matplotlib.pyplot as plt\n",
    "from botocore.exceptions import ClientError\n",
    "\n",
    "# Initialize the Timestream client\n",
    "client = boto3.client('timestream-query', region_name='us-east-2')\n",
    "\n",
    "# List of different Timestream queries\n",
    "queries = [\n",
    "       f'select memory from \"devops\".\"sample_devops\" where time > ago(10m) and hostname=\\'host1\\' order by time desc limit 1',\n",
    "     ]\n",
    "\n",
    "# Function to run a single query and measure its duration\n",
    "def run_query(query, worker_id):\n",
    "    start_time = time.time()\n",
    "    try:\n",
    "        response = client.query(QueryString=query)\n",
    "        duration = time.time() - start_time\n",
    "        return worker_id, response, duration, None\n",
    "    except ClientError as e:\n",
    "        duration = time.time() - start_time\n",
    "        if e.response['Error']['Code'] == 'ThrottlingException':\n",
    "            return worker_id, None, duration, 'ThrottlingException'\n",
    "        else:\n",
    "            raise e\n",
    "\n",
    "# Function to run queries in parallel\n",
    "def run_parallel_queries(duration_seconds, queries, max_workers):\n",
    "    end_time = time.time() + duration_seconds\n",
    "    total_queries = 0\n",
    "    query_durations = []\n",
    "    throttling_count = 0\n",
    "\n",
    "    print(f\"\\nStart time: {datetime.now().strftime('%Y-%m-%d %H:%M:%S')}\")\n",
    "\n",
    "    with concurrent.futures.ThreadPoolExecutor(max_workers=max_workers) as executor:\n",
    "        while time.time() < end_time:\n",
    "            # Launch each query in parallel with a worker ID\n",
    "            futures = {executor.submit(run_query, queries[i % len(queries)], i): i for i in range(max_workers)}\n",
    "\n",
    "            # Process results\n",
    "            for future in concurrent.futures.as_completed(futures):\n",
    "                try:\n",
    "                    worker_id, result, duration, error = future.result()\n",
    "                    query_durations.append(duration)\n",
    "                    total_queries += 1\n",
    "                    if error == 'ThrottlingException':\n",
    "                        throttling_count += 1\n",
    "                    #print(f\"Worker {worker_id}: Duration: {duration:.2f} seconds, results: {result}\")\n",
    "                except Exception as e:\n",
    "                    print(f\"Worker {worker_id}: Query failed: {e}\")\n",
    "\n",
    "    print(f\"End time: {datetime.now().strftime('%Y-%m-%d %H:%M:%S')}\")\n",
    "\n",
    "    if query_durations:\n",
    "        p50 = np.percentile(query_durations, 50)\n",
    "        p90 = np.percentile(query_durations, 90)\n",
    "        p99 = np.percentile(query_durations, 99)\n",
    "    else:\n",
    "        p50 = p90 = p99 = None\n",
    "\n",
    "    return total_queries, p50, p90, p99, throttling_count\n",
    "\n",
    "# Number of threads (workers) to test\n",
    "worker_counts = [7, 14, 21, 28, 42, 50, 60]\n",
    "duration_seconds = 60\n",
    "\n",
    "results = []\n",
    "\n",
    "# Run the tests for different worker counts\n",
    "for max_workers in worker_counts:\n",
    "    total_queries, p50, p90, p99, throttling_count = run_parallel_queries(duration_seconds, queries, max_workers)\n",
    "    results.append((max_workers, total_queries, p50, p90, p99, throttling_count))\n",
    "    print(f\"num_workers: {max_workers}\")\n",
    "    print(f\"Total number of queries run in {duration_seconds} seconds: {total_queries}\")\n",
    "    print(f\"p50 (50th percentile) of query durations: {p50:.2f} seconds\")\n",
    "    print(f\"p90 (90th percentile) of query durations: {p90:.2f} seconds\")\n",
    "    print(f\"p99 (99th percentile) of query durations: {p99:.2f} seconds\")\n",
    "    print(f\"Throttling count: {throttling_count}\")\n",
    "\n",
    "\n"
   ]
  },
  {
   "cell_type": "code",
   "execution_count": null,
   "id": "48f18dcd",
   "metadata": {},
   "outputs": [],
   "source": [
    "worker_counts = [result[0] for result in results]\n",
    "total_queries = [result[1] for result in results]\n",
    "p50s = [result[2] for result in results]\n",
    "p90s = [result[3] for result in results]\n",
    "p99s = [result[4] for result in results]\n",
    "throttling_counts = [result[5] for result in results]"
   ]
  },
  {
   "cell_type": "code",
   "execution_count": null,
   "id": "123c3d90",
   "metadata": {},
   "outputs": [],
   "source": [
    "print(worker_counts)"
   ]
  },
  {
   "cell_type": "code",
   "execution_count": null,
   "id": "55f0a802",
   "metadata": {},
   "outputs": [],
   "source": [
    "print(total_queries)"
   ]
  },
  {
   "cell_type": "code",
   "execution_count": null,
   "id": "52a4013f",
   "metadata": {},
   "outputs": [],
   "source": [
    "print(p50s)"
   ]
  },
  {
   "cell_type": "code",
   "execution_count": null,
   "id": "203ed0b4",
   "metadata": {},
   "outputs": [],
   "source": [
    "print(p90s)"
   ]
  },
  {
   "cell_type": "code",
   "execution_count": null,
   "id": "6a07cca8",
   "metadata": {},
   "outputs": [],
   "source": [
    "print(p99s)"
   ]
  },
  {
   "cell_type": "code",
   "execution_count": null,
   "id": "a7363b0b",
   "metadata": {},
   "outputs": [],
   "source": [
    "plt.figure(figsize=(12, 8))\n",
    "\n",
    "# Plot latency percentiles\n",
    "plt.subplot(3, 1, 1)\n",
    "plt.plot(worker_counts, p50s, label='p50')\n",
    "plt.plot(worker_counts, p90s, label='p90')\n",
    "plt.plot(worker_counts, p99s, label='p99')\n",
    "plt.xlabel('Number of Workers')\n",
    "plt.ylabel('Latency (seconds)')\n",
    "plt.title('Latency Percentiles')\n",
    "plt.legend()\n",
    "\n",
    "# Plot Queries Per Minute (QPM)\n",
    "plt.subplot(3, 1, 2)\n",
    "qpm = [q / (duration_seconds / 60) for q in total_queries]\n",
    "plt.plot(worker_counts, qpm, label='Queries Per Minute (QPM)')\n",
    "plt.xlabel('Number of Workers')\n",
    "plt.ylabel('Queries Per Minute')\n",
    "plt.title('Queries Per Minute')\n",
    "plt.legend()\n",
    "\n",
    "# Plot Throttling Counts\n",
    "plt.subplot(3, 1, 3)\n",
    "plt.plot(worker_counts, throttling_counts, label='Throttling Count', color='red')\n",
    "plt.xlabel('Number of Workers')\n",
    "plt.ylabel('Throttling Count')\n",
    "plt.title('Throttling Count')\n",
    "plt.legend()\n",
    "\n",
    "plt.tight_layout()\n",
    "plt.show()\n"
   ]
  },
  {
   "cell_type": "code",
   "execution_count": null,
   "id": "1c78828c",
   "metadata": {},
   "outputs": [],
   "source": []
  }
 ],
 "metadata": {
  "kernelspec": {
   "display_name": "conda_python3",
   "language": "python",
   "name": "conda_python3"
  },
  "language_info": {
   "codemirror_mode": {
    "name": "ipython",
    "version": 3
   },
   "file_extension": ".py",
   "mimetype": "text/x-python",
   "name": "python",
   "nbconvert_exporter": "python",
   "pygments_lexer": "ipython3",
   "version": "3.10.14"
  }
 },
 "nbformat": 4,
 "nbformat_minor": 5
}
